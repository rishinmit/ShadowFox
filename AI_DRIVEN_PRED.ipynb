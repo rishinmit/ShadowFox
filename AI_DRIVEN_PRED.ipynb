{
 "cells": [
  {
   "cell_type": "code",
   "execution_count": 75,
   "id": "29442e0d-955c-4578-8075-836b0d3f0e16",
   "metadata": {},
   "outputs": [],
   "source": [
    "# pip install --upgrade transformers torch tf-keras matplotlib seaborn nltk"
   ]
  },
  {
   "cell_type": "code",
   "execution_count": 29,
   "id": "3cea3523-639a-408f-b1a8-2406ad192a2d",
   "metadata": {},
   "outputs": [],
   "source": [
    "from transformers import pipeline\n",
    "import matplotlib.pyplot as plt\n",
    "import seaborn as sns"
   ]
  },
  {
   "cell_type": "code",
   "execution_count": 31,
   "id": "3aa24e26-90b0-48a9-ae1e-0deef416081d",
   "metadata": {},
   "outputs": [
    {
     "name": "stderr",
     "output_type": "stream",
     "text": [
      "No model was supplied, defaulted to distilbert/distilbert-base-uncased-finetuned-sst-2-english and revision 714eb0f (https://huggingface.co/distilbert/distilbert-base-uncased-finetuned-sst-2-english).\n",
      "Using a pipeline without specifying a model name and revision in production is not recommended.\n",
      "Device set to use mps:0\n"
     ]
    }
   ],
   "source": [
    "from transformers import pipeline\n",
    "\n",
    "sentiment_pipeline = pipeline(\"sentiment-analysis\", framework=\"pt\")  \n"
   ]
  },
  {
   "cell_type": "code",
   "execution_count": 33,
   "id": "2ac717bc-ca04-433d-bcf1-a2d39f3b5a50",
   "metadata": {},
   "outputs": [],
   "source": [
    "texts = [\n",
    "    \"AI is powerful!\", \n",
    "    \"I feel happy today.\", \n",
    "    \"Winters are the best\", \n",
    "    \"The weather is bad\", \n",
    "    \"I love coding!\", \n",
    "    \"I am feeling very sad and tired.\",\n",
    "    \"This is amazing!\", \n",
    "    \"I hate waiting in long queues.\"\n",
    "]"
   ]
  },
  {
   "cell_type": "code",
   "execution_count": 35,
   "id": "7ae5ac7d-5209-4d49-b6c3-fc6550f16456",
   "metadata": {},
   "outputs": [],
   "source": [
    "results = sentiment_pipeline(texts)"
   ]
  },
  {
   "cell_type": "code",
   "execution_count": 37,
   "id": "aed29c2f-8162-45a8-b421-ad3c96efafc5",
   "metadata": {},
   "outputs": [],
   "source": [
    "sentiments = []\n",
    "scores = []\n",
    "for result in results:\n",
    "    sentiments.append(result[\"label\"])\n",
    "    scores.append(result[\"score\"])"
   ]
  },
  {
   "cell_type": "code",
   "execution_count": 39,
   "id": "9245f0fa-c8d3-4847-96b1-0ac71beab728",
   "metadata": {},
   "outputs": [
    {
     "name": "stdout",
     "output_type": "stream",
     "text": [
      "Text: AI is powerful!\n",
      "Sentiment: POSITIVE (Confidence: 0.9998)\n",
      " \n",
      "Text: I feel happy today.\n",
      "Sentiment: POSITIVE (Confidence: 0.9999)\n",
      " \n",
      "Text: Winters are the best\n",
      "Sentiment: POSITIVE (Confidence: 0.9996)\n",
      " \n",
      "Text: The weather is bad\n",
      "Sentiment: NEGATIVE (Confidence: 0.9998)\n",
      " \n",
      "Text: I love coding!\n",
      "Sentiment: POSITIVE (Confidence: 0.9998)\n",
      " \n",
      "Text: I am feeling very sad and tired.\n",
      "Sentiment: NEGATIVE (Confidence: 0.9997)\n",
      " \n",
      "Text: This is amazing!\n",
      "Sentiment: POSITIVE (Confidence: 0.9999)\n",
      " \n",
      "Text: I hate waiting in long queues.\n",
      "Sentiment: NEGATIVE (Confidence: 0.9968)\n",
      " \n"
     ]
    }
   ],
   "source": [
    "for text, sentiment, score in zip(texts, sentiments, scores):\n",
    "    print(f\"Text: {text}\")\n",
    "    print(f\"Sentiment: {sentiment} (Confidence: {score:.4f})\")\n",
    "    print(\" \")"
   ]
  },
  {
   "cell_type": "code",
   "execution_count": 41,
   "id": "f064f8c4-2533-443c-947b-b1a222698376",
   "metadata": {},
   "outputs": [],
   "source": [
    "sentiment_map = {\"POSITIVE\": \"Positive\", \"NEGATIVE\": \"Negative\"}\n",
    "sentiments = [sentiment_map[label] for label in sentiments]"
   ]
  },
  {
   "cell_type": "code",
   "execution_count": 43,
   "id": "6dce41a4-0f46-4ef8-a46b-c31b07915e5e",
   "metadata": {},
   "outputs": [
    {
     "name": "stdout",
     "output_type": "stream",
     "text": [
      "Sentiment Counts: {'Positive': 5, 'Negative': 3}\n",
      "Type: <class 'dict'>\n"
     ]
    }
   ],
   "source": [
    "sentiment_counts = {\"Positive\": sentiments.count(\"Positive\"), \"Negative\": sentiments.count(\"Negative\")}\n",
    "print(\"Sentiment Counts:\", sentiment_counts)\n",
    "print(\"Type:\", type(sentiment_counts))"
   ]
  },
  {
   "cell_type": "code",
   "execution_count": 51,
   "id": "2e95ffd0-605d-4a90-8834-c5750765fd24",
   "metadata": {},
   "outputs": [
    {
     "name": "stderr",
     "output_type": "stream",
     "text": [
      "/var/folders/3d/mm908rpn7wq_lxgldksg46fh0000gn/T/ipykernel_8440/96948248.py:3: FutureWarning: \n",
      "\n",
      "Passing `palette` without assigning `hue` is deprecated and will be removed in v0.14.0. Assign the `x` variable to `hue` and set `legend=False` for the same effect.\n",
      "\n",
      "  sns.barplot(\n"
     ]
    },
    {
     "data": {
      "image/png": "[encoded data removed]",
      "text/plain": [
       "<Figure size 600x400 with 1 Axes>"
      ]
     },
     "metadata": {},
     "output_type": "display_data"
    }
   ],
   "source": [
    "plt.figure(figsize=(6, 4))\n",
    "\n",
    "sns.barplot(\n",
    "    x=list(sentiment_counts.keys()),\n",
    "    y=list(sentiment_counts.values()),  \n",
    "    palette=\"coolwarm\",\n",
    ")\n",
    "\n",
    "plt.xlabel(\"Sentiment\")\n",
    "plt.ylabel(\"Count\")\n",
    "plt.title(\"BERT Sentiment Analysis Results\")\n",
    "plt.show()\n"
   ]
  }
 ],
 "metadata": {
  "kernelspec": {
   "display_name": "Python [conda env:base] *",
   "language": "python",
   "name": "conda-base-py"
  },
  "language_info": {
   "codemirror_mode": {
    "name": "ipython",
    "version": 3
   },
   "file_extension": ".py",
   "mimetype": "text/x-python",
   "name": "python",
   "nbconvert_exporter": "python",
   "pygments_lexer": "ipython3",
   "version": "3.12.7"
  }
 },
 "nbformat": 4,
 "nbformat_minor": 5
}
